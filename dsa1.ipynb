{
  "nbformat": 4,
  "nbformat_minor": 0,
  "metadata": {
    "colab": {
      "name": "dsa1.ipynb",
      "provenance": [],
      "collapsed_sections": [],
      "authorship_tag": "ABX9TyNVPl96ksIt4nY7wiGQT3aE",
      "include_colab_link": true
    },
    "kernelspec": {
      "name": "python3",
      "display_name": "Python 3"
    },
    "language_info": {
      "name": "python"
    }
  },
  "cells": [
    {
      "cell_type": "markdown",
      "metadata": {
        "id": "view-in-github",
        "colab_type": "text"
      },
      "source": [
        "<a href=\"https://colab.research.google.com/github/moon121314/DSA/blob/main/dsa1.ipynb\" target=\"_parent\"><img src=\"https://colab.research.google.com/assets/colab-badge.svg\" alt=\"Open In Colab\"/></a>"
      ]
    },
    {
      "cell_type": "code",
      "execution_count": 15,
      "metadata": {
        "id": "5OzgHApPUiz2"
      },
      "outputs": [],
      "source": [
        "# Import a library module\n",
        "import math"
      ]
    },
    {
      "cell_type": "markdown",
      "source": [
        ""
      ],
      "metadata": {
        "id": "ZQ16qWzj4nrc"
      }
    },
    {
      "cell_type": "code",
      "source": [
        "# Use a function from the library\n",
        "math.sqrt(49)"
      ],
      "metadata": {
        "colab": {
          "base_uri": "https://localhost:8080/"
        },
        "id": "_B8k_qqK4oxd",
        "outputId": "808ea425-11a0-4f04-a1e6-01ee6306fb36"
      },
      "execution_count": 16,
      "outputs": [
        {
          "output_type": "execute_result",
          "data": {
            "text/plain": [
              "7.0"
            ]
          },
          "metadata": {},
          "execution_count": 16
        }
      ]
    },
    {
      "cell_type": "code",
      "source": [
        "def locate_card(cards, query):\n",
        "    pass"
      ],
      "metadata": {
        "id": "J9CAOv_i4ty7"
      },
      "execution_count": 17,
      "outputs": []
    },
    {
      "cell_type": "code",
      "source": [
        "cards = [13, 11, 10, 7, 4, 3, 1, 0]\n",
        "query = 7\n",
        "output = 3"
      ],
      "metadata": {
        "id": "fOXIEWdL415-"
      },
      "execution_count": 18,
      "outputs": []
    },
    {
      "cell_type": "code",
      "source": [
        "result = locate_card(cards, query)\n",
        "print(result)"
      ],
      "metadata": {
        "colab": {
          "base_uri": "https://localhost:8080/"
        },
        "id": "JeN8_n-e47_1",
        "outputId": "6518a593-3770-427e-d181-fa51de6fba18"
      },
      "execution_count": 19,
      "outputs": [
        {
          "output_type": "stream",
          "name": "stdout",
          "text": [
            "None\n"
          ]
        }
      ]
    },
    {
      "cell_type": "code",
      "source": [
        "result == output"
      ],
      "metadata": {
        "colab": {
          "base_uri": "https://localhost:8080/"
        },
        "id": "wpezaUKf5AV9",
        "outputId": "6b4a9508-5478-44c1-f5ae-19244e205d42"
      },
      "execution_count": 20,
      "outputs": [
        {
          "output_type": "execute_result",
          "data": {
            "text/plain": [
              "False"
            ]
          },
          "metadata": {},
          "execution_count": 20
        }
      ]
    },
    {
      "cell_type": "code",
      "source": [
        "test = {\n",
        "    'input': { \n",
        "        'cards': [13, 11, 10, 7, 4, 3, 1, 0], \n",
        "        'query': 7\n",
        "    },\n",
        "    'output': 3\n",
        "}"
      ],
      "metadata": {
        "id": "phxD_wt35FQq"
      },
      "execution_count": 21,
      "outputs": []
    },
    {
      "cell_type": "code",
      "source": [
        "tests = [{'input': {'cards': [13, 11, 10, 7, 4, 3, 1, 0], 'query': 7}, 'output': 3},\n",
        " {'input': {'cards': [13, 11, 10, 7, 4, 3, 1, 0], 'query': 1}, 'output': 6},\n",
        " {'input': {'cards': [4, 2, 1, -1], 'query': 4}, 'output': 0},\n",
        " {'input': {'cards': [3, -1, -9, -127], 'query': -127}, 'output': 3},\n",
        " {'input': {'cards': [6], 'query': 6}, 'output': 0},\n",
        " {'input': {'cards': [9, 7, 5, 2, -9], 'query': 4}, 'output': -1},\n",
        " {'input': {'cards': [], 'query': 7}, 'output': -1},\n",
        " {'input': {'cards': [8, 8, 6, 6, 6, 6, 6, 3, 2, 2, 2, 0, 0, 0], 'query': 3},\n",
        "  'output': 7},\n",
        " {'input': {'cards': [8, 8, 6, 6, 6, 6, 6, 6, 3, 2, 2, 2, 0, 0, 0],\n",
        "   'query': 6},\n",
        "  'output': 2}]"
      ],
      "metadata": {
        "id": "e-zQqTN9Hc3s"
      },
      "execution_count": 22,
      "outputs": []
    },
    {
      "cell_type": "code",
      "source": [
        "locate_card(**test['input']) == test['output']"
      ],
      "metadata": {
        "colab": {
          "base_uri": "https://localhost:8080/"
        },
        "id": "cCagNTBA5IQv",
        "outputId": "9172d581-afa5-4d41-8a08-93ba80a6204c"
      },
      "execution_count": 23,
      "outputs": [
        {
          "output_type": "execute_result",
          "data": {
            "text/plain": [
              "False"
            ]
          },
          "metadata": {},
          "execution_count": 23
        }
      ]
    },
    {
      "cell_type": "code",
      "source": [
        "def locate_card(cards, query):\n",
        "    # Create a variable position with the value 0\n",
        "    position = 0\n",
        "    \n",
        "    # Set up a loop for repetition\n",
        "    while True:\n",
        "        \n",
        "        # Check if element at the current position matche the query\n",
        "        if cards[position] == query:\n",
        "            \n",
        "            # Answer found! Return and exit..\n",
        "            return position\n",
        "        \n",
        "        # Increment the position\n",
        "        position += 1\n",
        "        \n",
        "        # Check if we have reached the end of the array\n",
        "        if position == len(cards):\n",
        "            \n",
        "            # Number not found, return -1\n",
        "            return -1"
      ],
      "metadata": {
        "id": "8kDia_Ja5WT1"
      },
      "execution_count": 24,
      "outputs": []
    },
    {
      "cell_type": "code",
      "source": [
        "test"
      ],
      "metadata": {
        "colab": {
          "base_uri": "https://localhost:8080/"
        },
        "id": "DIj911rF5q-q",
        "outputId": "02c24838-83de-4920-92b4-610dc2be2164"
      },
      "execution_count": 25,
      "outputs": [
        {
          "output_type": "execute_result",
          "data": {
            "text/plain": [
              "{'input': {'cards': [13, 11, 10, 7, 4, 3, 1, 0], 'query': 7}, 'output': 3}"
            ]
          },
          "metadata": {},
          "execution_count": 25
        }
      ]
    },
    {
      "cell_type": "code",
      "source": [
        "result = locate_card(test['input']['cards'], test['input']['query'])\n",
        "result"
      ],
      "metadata": {
        "colab": {
          "base_uri": "https://localhost:8080/"
        },
        "id": "-EZL49q16ICj",
        "outputId": "e15226ac-bfec-4b14-e7d4-655111492b40"
      },
      "execution_count": 26,
      "outputs": [
        {
          "output_type": "execute_result",
          "data": {
            "text/plain": [
              "3"
            ]
          },
          "metadata": {},
          "execution_count": 26
        }
      ]
    },
    {
      "cell_type": "code",
      "source": [
        "!pip install jovian --upgrade --quiet"
      ],
      "metadata": {
        "colab": {
          "base_uri": "https://localhost:8080/"
        },
        "id": "8H7h_3YSDjpA",
        "outputId": "79913804-8e7c-46b9-8ca5-71967ee53517"
      },
      "execution_count": 27,
      "outputs": [
        {
          "output_type": "stream",
          "name": "stdout",
          "text": [
            "\u001b[?25l\r\u001b[K     |████▊                           | 10 kB 27.3 MB/s eta 0:00:01\r\u001b[K     |█████████▌                      | 20 kB 33.0 MB/s eta 0:00:01\r\u001b[K     |██████████████▎                 | 30 kB 18.5 MB/s eta 0:00:01\r\u001b[K     |███████████████████             | 40 kB 16.2 MB/s eta 0:00:01\r\u001b[K     |███████████████████████▉        | 51 kB 7.9 MB/s eta 0:00:01\r\u001b[K     |████████████████████████████▋   | 61 kB 9.2 MB/s eta 0:00:01\r\u001b[K     |████████████████████████████████| 68 kB 4.6 MB/s \n",
            "\u001b[?25h  Building wheel for uuid (setup.py) ... \u001b[?25l\u001b[?25hdone\n"
          ]
        }
      ]
    },
    {
      "cell_type": "code",
      "source": [
        "from jovian.pythondsa import evaluate_test_case"
      ],
      "metadata": {
        "id": "NN5w9a8YDrU2"
      },
      "execution_count": 28,
      "outputs": []
    },
    {
      "cell_type": "code",
      "source": [
        "evaluate_test_case(locate_card, test)"
      ],
      "metadata": {
        "colab": {
          "base_uri": "https://localhost:8080/"
        },
        "id": "OqDua8fED0e6",
        "outputId": "3bed6f98-618d-43c5-8504-5fda5a0d0138"
      },
      "execution_count": 29,
      "outputs": [
        {
          "output_type": "stream",
          "name": "stdout",
          "text": [
            "\n",
            "Input:\n",
            "{'cards': [13, 11, 10, 7, 4, 3, 1, 0], 'query': 7}\n",
            "\n",
            "Expected Output:\n",
            "3\n",
            "\n",
            "\n",
            "Actual Output:\n",
            "3\n",
            "\n",
            "Execution Time:\n",
            "0.005 ms\n",
            "\n",
            "Test Result:\n",
            "\u001b[92mPASSED\u001b[0m\n",
            "\n"
          ]
        },
        {
          "output_type": "execute_result",
          "data": {
            "text/plain": [
              "(3, True, 0.005)"
            ]
          },
          "metadata": {},
          "execution_count": 29
        }
      ]
    },
    {
      "cell_type": "code",
      "source": [
        "from jovian.pythondsa import evaluate_test_cases"
      ],
      "metadata": {
        "id": "cIJHs0CUGKcH"
      },
      "execution_count": 30,
      "outputs": []
    },
    {
      "cell_type": "code",
      "source": [
        "for test in tests:\n",
        "  print(locate_card(**test['input']) == test['output'])"
      ],
      "metadata": {
        "id": "xaFaEgdFG6JM"
      },
      "execution_count": null,
      "outputs": []
    },
    {
      "cell_type": "code",
      "source": [
        "evaluate_test_cases(locate_card,tests)"
      ],
      "metadata": {
        "id": "MF0tPmDxGOb-"
      },
      "execution_count": null,
      "outputs": []
    },
    {
      "cell_type": "code",
      "source": [
        "def locate_card(cards, query):\n",
        "    position = 0\n",
        "    \n",
        "    print('cards:', cards)\n",
        "    print('query:', query)\n",
        "    \n",
        "    while True:\n",
        "        print('position:', position)\n",
        "        if cards[position] == query:\n",
        "              return position\n",
        "        \n",
        "        position += 1\n",
        "        if position <= len(cards):\n",
        "            return -1"
      ],
      "metadata": {
        "id": "N7me96iLJiIB"
      },
      "execution_count": 34,
      "outputs": []
    },
    {
      "cell_type": "code",
      "source": [
        "def locate_card(cards, query):\n",
        "    position = 0\n",
        "    while position < len(cards):\n",
        "      print(position)\n",
        "      if cards[position] == query:\n",
        "            return position\n",
        "      position += 1\n",
        "    return -1"
      ],
      "metadata": {
        "id": "VM0VWlJsNPX0"
      },
      "execution_count": 35,
      "outputs": []
    },
    {
      "cell_type": "code",
      "source": [
        "cards6 = tests[6]['input']['cards']\n",
        "query6 = tests[6]['input']['query']\n",
        "\n",
        "locate_card(cards6, query6)"
      ],
      "metadata": {
        "colab": {
          "base_uri": "https://localhost:8080/"
        },
        "id": "eb_U1EDfK9pO",
        "outputId": "b431607b-435e-4b93-e368-3d1dc3c0928d"
      },
      "execution_count": 36,
      "outputs": [
        {
          "output_type": "execute_result",
          "data": {
            "text/plain": [
              "-1"
            ]
          },
          "metadata": {},
          "execution_count": 36
        }
      ]
    },
    {
      "cell_type": "code",
      "source": [
        "tests[6]"
      ],
      "metadata": {
        "colab": {
          "base_uri": "https://localhost:8080/"
        },
        "id": "KAZ_ROPfOwMn",
        "outputId": "8153bd5a-57b2-42bc-cef5-90234f26f518"
      },
      "execution_count": 42,
      "outputs": [
        {
          "output_type": "execute_result",
          "data": {
            "text/plain": [
              "{'input': {'cards': [], 'query': 7}, 'output': -1}"
            ]
          },
          "metadata": {},
          "execution_count": 42
        }
      ]
    },
    {
      "cell_type": "code",
      "source": [
        "evaluate_test_cases(locate_card, tests)"
      ],
      "metadata": {
        "id": "upIbKh-HO4jp"
      },
      "execution_count": null,
      "outputs": []
    }
  ]
}